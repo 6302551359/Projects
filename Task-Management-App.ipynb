{
 "cells": [
  {
   "cell_type": "code",
   "execution_count": 4,
   "id": "13c626e0-d385-4815-8912-20e3aee87812",
   "metadata": {},
   "outputs": [
    {
     "name": "stdout",
     "output_type": "stream",
     "text": [
      "\n",
      "Task Management App\n",
      "1. Add Task\n",
      "2. Remove Task\n",
      "3. List Tasks\n",
      "4. Recommend Task\n",
      "5. Exit\n"
     ]
    },
    {
     "name": "stdin",
     "output_type": "stream",
     "text": [
      "Select an option:  4\n"
     ]
    },
    {
     "name": "stdout",
     "output_type": "stream",
     "text": [
      "Recommended task: Buy groceries - Priority: High\n",
      "\n",
      "Task Management App\n",
      "1. Add Task\n",
      "2. Remove Task\n",
      "3. List Tasks\n",
      "4. Recommend Task\n",
      "5. Exit\n"
     ]
    },
    {
     "name": "stdin",
     "output_type": "stream",
     "text": [
      "Select an option:  3\n"
     ]
    },
    {
     "name": "stdout",
     "output_type": "stream",
     "text": [
      "                            description priority\n",
      "0                         Buy groceries     High\n",
      "1               Complete project report   Medium\n",
      "2      Schedule a meeting with the team      Low\n",
      "3  Prepare presentation for the meeting   Medium\n",
      "4                         Pay the bills     High\n",
      "5                              Exercise      Low\n",
      "\n",
      "Task Management App\n",
      "1. Add Task\n",
      "2. Remove Task\n",
      "3. List Tasks\n",
      "4. Recommend Task\n",
      "5. Exit\n"
     ]
    },
    {
     "name": "stdin",
     "output_type": "stream",
     "text": [
      "Select an option:  5\n"
     ]
    },
    {
     "name": "stdout",
     "output_type": "stream",
     "text": [
      "Goodbye!\n"
     ]
    }
   ],
   "source": [
    "import pandas as pd\n",
    "from sklearn.feature_extraction.text import CountVectorizer\n",
    "from sklearn.naive_bayes import MultinomialNB\n",
    "from sklearn.pipeline import make_pipeline\n",
    "import random\n",
    "\n",
    "class TaskManager:\n",
    "    def __init__(self):\n",
    "        self.tasks = pd.DataFrame(columns=['description', 'priority'])\n",
    "        self.load_tasks()\n",
    "        self.vectorizer = CountVectorizer()\n",
    "        self.clf = MultinomialNB()\n",
    "        self.model = make_pipeline(self.vectorizer, self.clf)\n",
    "        if not self.tasks.empty:\n",
    "            self.train_model()\n",
    "\n",
    "    # Load pre-existing tasks from a CSV file (if any)\n",
    "    def load_tasks(self):\n",
    "        try:\n",
    "            self.tasks = pd.read_csv('tasks.csv')\n",
    "        except FileNotFoundError:\n",
    "            pass\n",
    "\n",
    "    # Save tasks to a CSV file\n",
    "    def save_tasks(self):\n",
    "        self.tasks.to_csv('tasks.csv', index=False)\n",
    "\n",
    "    # Train the task priority classifier\n",
    "    def train_model(self):\n",
    "        self.model.fit(self.tasks['description'], self.tasks['priority'])\n",
    "\n",
    "    # Add a task to the list\n",
    "    def add_task(self, description, priority):\n",
    "        new_task = pd.DataFrame({'description': [description], 'priority': [priority]})\n",
    "        self.tasks = pd.concat([self.tasks, new_task], ignore_index=True)\n",
    "        self.save_tasks()\n",
    "        self.train_model()  # Re-train the model after adding a new task\n",
    "\n",
    "    # Remove a task by description\n",
    "    def remove_task(self, description):\n",
    "        self.tasks = self.tasks[self.tasks['description'] != description]\n",
    "        self.save_tasks()\n",
    "\n",
    "    # List all tasks\n",
    "    def list_tasks(self):\n",
    "        if self.tasks.empty:\n",
    "            print(\"No tasks available.\")\n",
    "        else:\n",
    "            print(self.tasks)\n",
    "\n",
    "    # Recommend a task based on machine learning\n",
    "    def recommend_task(self):\n",
    "        if not self.tasks.empty:\n",
    "            # Get high-priority tasks\n",
    "            high_priority_tasks = self.tasks[self.tasks['priority'] == 'High']\n",
    "            \n",
    "            if not high_priority_tasks.empty:\n",
    "                # Choose a random high-priority task\n",
    "                random_task = random.choice(high_priority_tasks['description'])\n",
    "                print(f\"Recommended task: {random_task} - Priority: High\")\n",
    "            else:\n",
    "                print(\"No high-priority tasks available for recommendation.\")\n",
    "        else:\n",
    "            print(\"No tasks available for recommendations.\")\n",
    "\n",
    "# Main menu\n",
    "if __name__ == \"__main__\":\n",
    "    manager = TaskManager()\n",
    "\n",
    "    while True:\n",
    "        print(\"\\nTask Management App\")\n",
    "        print(\"1. Add Task\")\n",
    "        print(\"2. Remove Task\")\n",
    "        print(\"3. List Tasks\")\n",
    "        print(\"4. Recommend Task\")\n",
    "        print(\"5. Exit\")\n",
    "\n",
    "        choice = input(\"Select an option: \")\n",
    "\n",
    "        if choice == \"1\":\n",
    "            description = input(\"Enter task description: \")\n",
    "            priority = input(\"Enter task priority (Low/Medium/High): \").capitalize()\n",
    "            manager.add_task(description, priority)\n",
    "            print(\"Task added successfully.\")\n",
    "\n",
    "        elif choice == \"2\":\n",
    "            description = input(\"Enter task description to remove: \")\n",
    "            manager.remove_task(description)\n",
    "            print(\"Task removed successfully.\")\n",
    "\n",
    "        elif choice == \"3\":\n",
    "            manager.list_tasks()\n",
    "\n",
    "        elif choice == \"4\":\n",
    "            manager.recommend_task()\n",
    "\n",
    "        elif choice == \"5\":\n",
    "            print(\"Goodbye!\")\n",
    "            break\n",
    "\n",
    "        else:\n",
    "            print(\"Invalid option. Please select a valid option.\")\n"
   ]
  },
  {
   "cell_type": "code",
   "execution_count": null,
   "id": "98b551c4-11a4-43e6-9ecc-cd2bceff0fdd",
   "metadata": {},
   "outputs": [],
   "source": []
  }
 ],
 "metadata": {
  "kernelspec": {
   "display_name": "Python 3 (ipykernel)",
   "language": "python",
   "name": "python3"
  },
  "language_info": {
   "codemirror_mode": {
    "name": "ipython",
    "version": 3
   },
   "file_extension": ".py",
   "mimetype": "text/x-python",
   "name": "python",
   "nbconvert_exporter": "python",
   "pygments_lexer": "ipython3",
   "version": "3.12.4"
  }
 },
 "nbformat": 4,
 "nbformat_minor": 5
}
